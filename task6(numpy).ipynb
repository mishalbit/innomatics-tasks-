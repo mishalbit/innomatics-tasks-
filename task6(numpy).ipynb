{
 "cells": [
  {
   "cell_type": "markdown",
   "id": "f7ce1092",
   "metadata": {},
   "source": [
    "# Task-6 (Numpy)   syed mishal oct "
   ]
  },
  {
   "cell_type": "code",
   "execution_count": 1,
   "id": "dd64fd24",
   "metadata": {},
   "outputs": [],
   "source": [
    "import numpy as np"
   ]
  },
  {
   "cell_type": "code",
   "execution_count": 2,
   "id": "1d243771",
   "metadata": {},
   "outputs": [
    {
     "name": "stdout",
     "output_type": "stream",
     "text": [
      "Enter space-separated numbers : 2 3 4 5\n",
      "['5' '4' '3' '2']\n"
     ]
    }
   ],
   "source": [
    "A = input('Enter space-separated numbers : ').strip().split(' ')\n",
    "A = np.array(A)\n",
    "Reversed_A = A[::-1]\n",
    "print(Reversed_A)"
   ]
  },
  {
   "cell_type": "markdown",
   "id": "5a9bff64",
   "metadata": {},
   "source": [
    "# Shape and Reshape"
   ]
  },
  {
   "cell_type": "code",
   "execution_count": 7,
   "id": "e5796990",
   "metadata": {},
   "outputs": [
    {
     "name": "stdout",
     "output_type": "stream",
     "text": [
      "Enter space-separated numbers : 2\n",
      "(1,)\n"
     ]
    },
    {
     "ename": "ValueError",
     "evalue": "cannot reshape array of size 1 into shape (3,3)",
     "output_type": "error",
     "traceback": [
      "\u001b[1;31m---------------------------------------------------------------------------\u001b[0m",
      "\u001b[1;31mValueError\u001b[0m                                Traceback (most recent call last)",
      "\u001b[1;32m<ipython-input-7-38f2446a2be7>\u001b[0m in \u001b[0;36m<module>\u001b[1;34m\u001b[0m\n\u001b[0;32m      1\u001b[0m \u001b[0mA\u001b[0m \u001b[1;33m=\u001b[0m \u001b[0mnp\u001b[0m\u001b[1;33m.\u001b[0m\u001b[0marray\u001b[0m\u001b[1;33m(\u001b[0m\u001b[0minput\u001b[0m\u001b[1;33m(\u001b[0m\u001b[1;34m'Enter space-separated numbers : '\u001b[0m\u001b[1;33m)\u001b[0m\u001b[1;33m.\u001b[0m\u001b[0msplit\u001b[0m\u001b[1;33m(\u001b[0m\u001b[1;33m)\u001b[0m\u001b[1;33m,\u001b[0m\u001b[0mint\u001b[0m\u001b[1;33m)\u001b[0m\u001b[1;33m\u001b[0m\u001b[1;33m\u001b[0m\u001b[0m\n\u001b[0;32m      2\u001b[0m \u001b[0mprint\u001b[0m\u001b[1;33m(\u001b[0m\u001b[0mA\u001b[0m\u001b[1;33m.\u001b[0m\u001b[0mshape\u001b[0m\u001b[1;33m)\u001b[0m\u001b[1;33m\u001b[0m\u001b[1;33m\u001b[0m\u001b[0m\n\u001b[1;32m----> 3\u001b[1;33m \u001b[0mA\u001b[0m \u001b[1;33m=\u001b[0m \u001b[0mA\u001b[0m\u001b[1;33m.\u001b[0m\u001b[0mreshape\u001b[0m\u001b[1;33m(\u001b[0m\u001b[1;36m3\u001b[0m\u001b[1;33m,\u001b[0m\u001b[1;36m3\u001b[0m\u001b[1;33m)\u001b[0m\u001b[1;33m\u001b[0m\u001b[1;33m\u001b[0m\u001b[0m\n\u001b[0m\u001b[0;32m      4\u001b[0m \u001b[0mprint\u001b[0m\u001b[1;33m(\u001b[0m\u001b[0mA\u001b[0m\u001b[1;33m)\u001b[0m\u001b[1;33m\u001b[0m\u001b[1;33m\u001b[0m\u001b[0m\n",
      "\u001b[1;31mValueError\u001b[0m: cannot reshape array of size 1 into shape (3,3)"
     ]
    }
   ],
   "source": [
    "A = np.array(input('Enter space-separated numbers : ').split(),int)\n",
    "print(A.shape)\n",
    "A = A.reshape(3,3)\n",
    "print(A)"
   ]
  },
  {
   "cell_type": "markdown",
   "id": "d5642298",
   "metadata": {},
   "source": [
    "# transpose and flatten"
   ]
  },
  {
   "cell_type": "code",
   "execution_count": 8,
   "id": "5265cef0",
   "metadata": {},
   "outputs": [
    {
     "name": "stdout",
     "output_type": "stream",
     "text": [
      "Enter space-separeted values of N and M : 2 3\n",
      "Enter space-separated elements : 2 3 4 5 6 \n",
      "Enter space-separated elements : 4 567 7 8 9\n",
      "[[  2   4]\n",
      " [  3 567]\n",
      " [  4   7]\n",
      " [  5   8]\n",
      " [  6   9]]\n",
      "[  2   3   4   5   6   4 567   7   8   9]\n"
     ]
    }
   ],
   "source": [
    "# N Rows and M Columns\n",
    "N,M = map(int, input('Enter space-separeted values of N and M : ').split())\n",
    "A = np.array([input('Enter space-separated elements : ').split() for _ in range(N)],int) # Enter elements for each row. \n",
    "print(A.transpose())\n",
    "print(A.flatten())\n"
   ]
  },
  {
   "cell_type": "markdown",
   "id": "54113e43",
   "metadata": {},
   "source": [
    "# Concatenate"
   ]
  },
  {
   "cell_type": "code",
   "execution_count": 9,
   "id": "0beb5dd8",
   "metadata": {},
   "outputs": [
    {
     "name": "stdout",
     "output_type": "stream",
     "text": [
      "Enter space-separeted values of N and M and P : 3 3 1\n",
      "Enter space-separated elements : 2 34 5 6\n",
      "Enter space-separated elements : 3 45 2 3\n",
      "Enter space-separated elements : 3 6 7\n"
     ]
    },
    {
     "ename": "ValueError",
     "evalue": "setting an array element with a sequence. The requested array has an inhomogeneous shape after 1 dimensions. The detected shape was (3,) + inhomogeneous part.",
     "output_type": "error",
     "traceback": [
      "\u001b[1;31m---------------------------------------------------------------------------\u001b[0m",
      "\u001b[1;31mValueError\u001b[0m                                Traceback (most recent call last)",
      "\u001b[1;32m<ipython-input-9-caab9a53f88e>\u001b[0m in \u001b[0;36m<module>\u001b[1;34m\u001b[0m\n\u001b[0;32m      1\u001b[0m \u001b[0mP\u001b[0m\u001b[1;33m,\u001b[0m\u001b[0mN\u001b[0m\u001b[1;33m,\u001b[0m\u001b[0mM\u001b[0m \u001b[1;33m=\u001b[0m \u001b[0mmap\u001b[0m\u001b[1;33m(\u001b[0m\u001b[0mint\u001b[0m\u001b[1;33m,\u001b[0m \u001b[0minput\u001b[0m\u001b[1;33m(\u001b[0m\u001b[1;34m'Enter space-separeted values of N and M and P : '\u001b[0m\u001b[1;33m)\u001b[0m\u001b[1;33m.\u001b[0m\u001b[0msplit\u001b[0m\u001b[1;33m(\u001b[0m\u001b[1;33m)\u001b[0m\u001b[1;33m)\u001b[0m\u001b[1;33m\u001b[0m\u001b[1;33m\u001b[0m\u001b[0m\n\u001b[1;32m----> 2\u001b[1;33m \u001b[0mA\u001b[0m \u001b[1;33m=\u001b[0m \u001b[0mnp\u001b[0m\u001b[1;33m.\u001b[0m\u001b[0marray\u001b[0m\u001b[1;33m(\u001b[0m\u001b[1;33m[\u001b[0m\u001b[0minput\u001b[0m\u001b[1;33m(\u001b[0m\u001b[1;34m'Enter space-separated elements : '\u001b[0m\u001b[1;33m)\u001b[0m\u001b[1;33m.\u001b[0m\u001b[0msplit\u001b[0m\u001b[1;33m(\u001b[0m\u001b[1;33m)\u001b[0m \u001b[1;32mfor\u001b[0m \u001b[0m_\u001b[0m \u001b[1;32min\u001b[0m \u001b[0mrange\u001b[0m\u001b[1;33m(\u001b[0m\u001b[0mP\u001b[0m\u001b[1;33m)\u001b[0m\u001b[1;33m]\u001b[0m\u001b[1;33m,\u001b[0m\u001b[0mint\u001b[0m\u001b[1;33m)\u001b[0m\u001b[1;33m\u001b[0m\u001b[1;33m\u001b[0m\u001b[0m\n\u001b[0m\u001b[0;32m      3\u001b[0m \u001b[0mB\u001b[0m \u001b[1;33m=\u001b[0m \u001b[0mnp\u001b[0m\u001b[1;33m.\u001b[0m\u001b[0marray\u001b[0m\u001b[1;33m(\u001b[0m\u001b[1;33m[\u001b[0m\u001b[0minput\u001b[0m\u001b[1;33m(\u001b[0m\u001b[1;34m'Enter space-separated elements : '\u001b[0m\u001b[1;33m)\u001b[0m\u001b[1;33m.\u001b[0m\u001b[0msplit\u001b[0m\u001b[1;33m(\u001b[0m\u001b[1;33m)\u001b[0m \u001b[1;32mfor\u001b[0m \u001b[0m_\u001b[0m \u001b[1;32min\u001b[0m \u001b[0mrange\u001b[0m\u001b[1;33m(\u001b[0m\u001b[0mN\u001b[0m\u001b[1;33m)\u001b[0m\u001b[1;33m]\u001b[0m\u001b[1;33m,\u001b[0m\u001b[0mint\u001b[0m\u001b[1;33m)\u001b[0m\u001b[1;33m\u001b[0m\u001b[1;33m\u001b[0m\u001b[0m\n\u001b[0;32m      4\u001b[0m \u001b[0mC\u001b[0m \u001b[1;33m=\u001b[0m \u001b[0mnp\u001b[0m\u001b[1;33m.\u001b[0m\u001b[0mconcatenate\u001b[0m\u001b[1;33m(\u001b[0m\u001b[1;33m(\u001b[0m\u001b[0mA\u001b[0m\u001b[1;33m,\u001b[0m\u001b[0mB\u001b[0m\u001b[1;33m)\u001b[0m\u001b[1;33m,\u001b[0m\u001b[0maxis\u001b[0m \u001b[1;33m=\u001b[0m \u001b[1;36m0\u001b[0m\u001b[1;33m)\u001b[0m\u001b[1;33m\u001b[0m\u001b[1;33m\u001b[0m\u001b[0m\n\u001b[0;32m      5\u001b[0m \u001b[0mprint\u001b[0m\u001b[1;33m(\u001b[0m\u001b[0mC\u001b[0m\u001b[1;33m)\u001b[0m\u001b[1;33m\u001b[0m\u001b[1;33m\u001b[0m\u001b[0m\n",
      "\u001b[1;31mValueError\u001b[0m: setting an array element with a sequence. The requested array has an inhomogeneous shape after 1 dimensions. The detected shape was (3,) + inhomogeneous part."
     ]
    }
   ],
   "source": [
    "P,N,M = map(int, input('Enter space-separeted values of N and M and P : ').split())\n",
    "A = np.array([input('Enter space-separated elements : ').split() for _ in range(P)],int)\n",
    "B = np.array([input('Enter space-separated elements : ').split() for _ in range(N)],int)\n",
    "C = np.concatenate((A,B),axis = 0)\n",
    "print(C)"
   ]
  },
  {
   "cell_type": "markdown",
   "id": "77943f89",
   "metadata": {},
   "source": [
    "# Zeros and Ones\n",
    "\n"
   ]
  },
  {
   "cell_type": "code",
   "execution_count": 10,
   "id": "a26ca6ec",
   "metadata": {},
   "outputs": [
    {
     "name": "stdout",
     "output_type": "stream",
     "text": [
      "Enter space-separeted values of X and Y and Z : 2 3 4\n",
      "[[[0 0 0 0]\n",
      "  [0 0 0 0]\n",
      "  [0 0 0 0]]\n",
      "\n",
      " [[0 0 0 0]\n",
      "  [0 0 0 0]\n",
      "  [0 0 0 0]]]\n",
      "[[[1 1 1 1]\n",
      "  [1 1 1 1]\n",
      "  [1 1 1 1]]\n",
      "\n",
      " [[1 1 1 1]\n",
      "  [1 1 1 1]\n",
      "  [1 1 1 1]]]\n"
     ]
    }
   ],
   "source": [
    "A = tuple(map(int, input('Enter space-separeted values of X and Y and Z : ').split()))\n",
    "print(np.zeros(A, int))\n",
    "print(np.ones(A, int))"
   ]
  },
  {
   "cell_type": "markdown",
   "id": "bd61fa39",
   "metadata": {},
   "source": [
    "# Eye and Identity"
   ]
  },
  {
   "cell_type": "code",
   "execution_count": 12,
   "id": "45515d36",
   "metadata": {},
   "outputs": [
    {
     "name": "stdout",
     "output_type": "stream",
     "text": [
      "Enter space-separeted values of N and M : 3 5\n",
      "[[1. 0. 0. 0. 0.]\n",
      " [0. 1. 0. 0. 0.]\n",
      " [0. 0. 1. 0. 0.]]\n"
     ]
    }
   ],
   "source": [
    "N,M = map(int, input('Enter space-separeted values of N and M : ').split())\n",
    "print(np.eye(N,M))"
   ]
  },
  {
   "cell_type": "markdown",
   "id": "32dfff3c",
   "metadata": {},
   "source": [
    "# array mathematics"
   ]
  },
  {
   "cell_type": "code",
   "execution_count": 13,
   "id": "5f514585",
   "metadata": {},
   "outputs": [
    {
     "name": "stdout",
     "output_type": "stream",
     "text": [
      "Enter space-separeted values of M and N : 5 6\n",
      "Enter space-separated elements : 5 6 7 \n",
      "Enter space-separated elements : 76 5 6\n",
      "Enter space-separated elements : 5 6 7\n",
      "Enter space-separated elements : 5 67 8\n",
      "Enter space-separated elements : 6 7 8\n",
      "Enter space-separated elements : 5 67 8\n",
      "Enter space-separated elements : 5 6 876\n",
      "Enter space-separated elements : 5 6 7\n",
      "Enter space-separated elements : 6 7 8\n",
      "Enter space-separated elements : 5 6 8\n",
      "[[ 10  73  15]\n",
      " [ 81  11 882]\n",
      " [ 10  12  14]\n",
      " [ 11  74  16]\n",
      " [ 11  13  16]]\n",
      "[[   0  -61   -1]\n",
      " [  71   -1 -870]\n",
      " [   0    0    0]\n",
      " [  -1   60    0]\n",
      " [   1    1    0]]\n",
      "[[  25  402   56]\n",
      " [ 380   30 5256]\n",
      " [  25   36   49]\n",
      " [  30  469   64]\n",
      " [  30   42   64]]\n",
      "[[1.00000000e+00 8.95522388e-02 8.75000000e-01]\n",
      " [1.52000000e+01 8.33333333e-01 6.84931507e-03]\n",
      " [1.00000000e+00 1.00000000e+00 1.00000000e+00]\n",
      " [8.33333333e-01 9.57142857e+00 1.00000000e+00]\n",
      " [1.20000000e+00 1.16666667e+00 1.00000000e+00]]\n",
      "[[0 6 7]\n",
      " [1 5 6]\n",
      " [0 0 0]\n",
      " [5 4 0]\n",
      " [1 1 0]]\n",
      "[[       3125           0     5764801]\n",
      " [-1759441920       15625           0]\n",
      " [       3125       46656      823543]\n",
      " [      15625   512750667    16777216]\n",
      " [       7776      117649    16777216]]\n"
     ]
    }
   ],
   "source": [
    "N,M = map(int, input('Enter space-separeted values of M and N : ').split()) # N lines and M integer/line\n",
    "A = np.array([list(map(int, input('Enter space-separated elements : ').split())) for n in range(N)])\n",
    "B = np.array([list(map(int, input('Enter space-separated elements : ').split())) for n in range(N)])\n",
    "\n",
    "print(np.add(A,B))\n",
    "print(np.subtract(A,B))\n",
    "print(np.multiply(A,B))\n",
    "print(np.divide(A,B))\n",
    "print(np.mod(A,B))\n",
    "print(np.power(A,B))"
   ]
  },
  {
   "cell_type": "markdown",
   "id": "85692086",
   "metadata": {},
   "source": [
    "# floor ,ceil,reint"
   ]
  },
  {
   "cell_type": "code",
   "execution_count": 14,
   "id": "4fd36eff",
   "metadata": {},
   "outputs": [
    {
     "name": "stdout",
     "output_type": "stream",
     "text": [
      "Enter space-separated elements : 2.3 4 5.6 4 5.4\n",
      "[[2. 4. 5. 4. 5.]]\n",
      "[[3. 4. 6. 4. 6.]]\n",
      "[[2. 4. 6. 4. 5.]]\n"
     ]
    }
   ],
   "source": [
    "A = np.array([list(map(float, input('Enter space-separated elements : ').split()))])\n",
    "print(np.floor(A))\n",
    "print(np.ceil(A))\n",
    "print(np.rint(A))"
   ]
  },
  {
   "cell_type": "markdown",
   "id": "5216a916",
   "metadata": {},
   "source": [
    "# sum and product numpy"
   ]
  },
  {
   "cell_type": "code",
   "execution_count": null,
   "id": "df5e9996",
   "metadata": {},
   "outputs": [],
   "source": [
    "N, M = map(int, input('Enter space-separated values of N and M : ').split()) # N lines and M integers/line\n",
    "A = np.array([input('Enter your numbers : ').split() for _ in range(N)], int)\n",
    "Sum = np.sum(A,axis = 0)\n",
    "Prod = np.prod(Sum,axis = 0)\n",
    "print(Prod)"
   ]
  },
  {
   "cell_type": "markdown",
   "id": "80d96b5c",
   "metadata": {},
   "source": [
    "# min and max"
   ]
  },
  {
   "cell_type": "code",
   "execution_count": null,
   "id": "e6f53ef4",
   "metadata": {},
   "outputs": [],
   "source": [
    "N, M = map(int, input('Enter space-separated values of N and M : ').split())\n",
    "A = np.array([input('Enter your numbers : ').split() for _ in range(N)], int)\n",
    "Min = np.min(A,axis = 1)\n",
    "print(np.max(Min))"
   ]
  },
  {
   "cell_type": "markdown",
   "id": "0cb05d0e",
   "metadata": {},
   "source": [
    "# Mean, Var and Std"
   ]
  },
  {
   "cell_type": "code",
   "execution_count": null,
   "id": "84057e07",
   "metadata": {},
   "outputs": [],
   "source": [
    "N, M = map(int, input('Enter space-separated values of N and M : ').split())\n",
    "A = np.array([input('Enter your numbers : ').split() for _ in range(N)], int)\n",
    "print(np.mean(A,axis = 1))\n",
    "print(np.var(A,axis = 0))\n",
    "np.set_printoptions(legacy='1.13')\n",
    "print(np.std(A))"
   ]
  },
  {
   "cell_type": "markdown",
   "id": "e7be64c1",
   "metadata": {},
   "source": [
    "# dot and cross"
   ]
  },
  {
   "cell_type": "code",
   "execution_count": null,
   "id": "7d4dfa10",
   "metadata": {},
   "outputs": [],
   "source": [
    "N = int(input('Enter space-separeted values of N : ')) # N lines and M integer/line\n",
    "A = np.array([input('Enter your numbers : ').split() for _ in range(N)], int)\n",
    "B = np.array([input('Enter your numbers : ').split() for _ in range(N)], int)\n",
    "print(np.dot(A,B))"
   ]
  },
  {
   "cell_type": "markdown",
   "id": "3b2e0ace",
   "metadata": {},
   "source": [
    "# polynomials"
   ]
  },
  {
   "cell_type": "code",
   "execution_count": null,
   "id": "f7268d4d",
   "metadata": {},
   "outputs": [],
   "source": [
    "A,B,C = map(float, input('Enter space-separated values of Coefficients : ').split())\n",
    "X = int(input('Enter value of X  : ')) \n",
    "print(np.polyval([A,B,C],X))"
   ]
  },
  {
   "cell_type": "markdown",
   "id": "8b33b8c3",
   "metadata": {},
   "source": [
    "# linear algebra"
   ]
  },
  {
   "cell_type": "code",
   "execution_count": null,
   "id": "38a3d25d",
   "metadata": {},
   "outputs": [],
   "source": [
    "N = int(input('Enter value of N  : ')) \n",
    "A = np.array([input('Enter your numbers : ').split() for _ in range(N)],float)\n",
    "# Output needs to be round to 2 decimal points\n",
    "print(round(np.linalg.det(A),2))"
   ]
  },
  {
   "cell_type": "code",
   "execution_count": null,
   "id": "67770927",
   "metadata": {},
   "outputs": [],
   "source": []
  }
 ],
 "metadata": {
  "kernelspec": {
   "display_name": "Python 3",
   "language": "python",
   "name": "python3"
  },
  "language_info": {
   "codemirror_mode": {
    "name": "ipython",
    "version": 3
   },
   "file_extension": ".py",
   "mimetype": "text/x-python",
   "name": "python",
   "nbconvert_exporter": "python",
   "pygments_lexer": "ipython3",
   "version": "3.8.8"
  }
 },
 "nbformat": 4,
 "nbformat_minor": 5
}

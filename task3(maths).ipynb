{
 "cells": [
  {
   "cell_type": "markdown",
   "id": "b3e61982",
   "metadata": {},
   "source": [
    "# polar coordinates  16 oct 2021 syed mishal"
   ]
  },
  {
   "cell_type": "code",
   "execution_count": 1,
   "id": "c5080b3b",
   "metadata": {},
   "outputs": [
    {
     "name": "stdout",
     "output_type": "stream",
     "text": [
      "Enter a complex Number : 5\n",
      "5.0\n",
      "0.0\n"
     ]
    }
   ],
   "source": [
    "import cmath\n",
    "Number = complex(input('Enter a complex Number : '))\n",
    "Z = complex(Number)\n",
    "print(cmath.polar(Z)[0])\n",
    "print(cmath.polar(Z)[1])\n"
   ]
  },
  {
   "cell_type": "markdown",
   "id": "a9d57784",
   "metadata": {},
   "source": [
    "# traingle quest"
   ]
  },
  {
   "cell_type": "code",
   "execution_count": 2,
   "id": "e2cd4f98",
   "metadata": {},
   "outputs": [
    {
     "name": "stdout",
     "output_type": "stream",
     "text": [
      "Enter a number : 5\n",
      "1\n",
      "22\n",
      "333\n",
      "4444\n"
     ]
    }
   ],
   "source": [
    "Number = int(input('Enter a number : '))\n",
    "for i in range(1 , Number): \n",
    "    print(int(i * 10 ** i / 9))"
   ]
  },
  {
   "cell_type": "markdown",
   "id": "3f67e7fa",
   "metadata": {},
   "source": [
    "# traingle quest 2"
   ]
  },
  {
   "cell_type": "code",
   "execution_count": 3,
   "id": "8fd07895",
   "metadata": {},
   "outputs": [
    {
     "name": "stdout",
     "output_type": "stream",
     "text": [
      "Enter a number : 7\n",
      "1.0\n",
      "121.0\n",
      "12321.0\n",
      "1234321.0\n",
      "123454321.0\n",
      "12345654321.0\n",
      "1234567654321.0\n"
     ]
    }
   ],
   "source": [
    "Number = int(input('Enter a number : '))\n",
    "for i in range(1, Number + 1): \n",
    "    print(float((10**i-1)/(9))**2)"
   ]
  },
  {
   "cell_type": "markdown",
   "id": "14d2490b",
   "metadata": {},
   "source": [
    "# mod and div mod"
   ]
  },
  {
   "cell_type": "code",
   "execution_count": 4,
   "id": "ef4640a0",
   "metadata": {},
   "outputs": [
    {
     "name": "stdout",
     "output_type": "stream",
     "text": [
      "Enter first number : 4\n",
      "Enter Second number : 5\n",
      "Integar division(Quotient) :  0\n",
      "Modulus division(Remainder) :  4\n",
      "Using divmod :  (0, 4)\n"
     ]
    }
   ],
   "source": [
    "A = int(input('Enter first number : '))\n",
    "B = int(input('Enter Second number : '))\n",
    "print('Integar division(Quotient) : ',A//B)\n",
    "print('Modulus division(Remainder) : ',A%B)\n",
    "print('Using divmod : ',divmod(A,B))"
   ]
  },
  {
   "cell_type": "markdown",
   "id": "3996b8bd",
   "metadata": {},
   "source": [
    "# power mod power"
   ]
  },
  {
   "cell_type": "code",
   "execution_count": 6,
   "id": "7d9beedd",
   "metadata": {},
   "outputs": [
    {
     "name": "stdout",
     "output_type": "stream",
     "text": [
      "Enter first number : 5\n",
      "Enter Second number : 5\n",
      "Enter Third number : 5\n",
      "3125\n",
      "0\n"
     ]
    }
   ],
   "source": [
    "A = int(input('Enter first number : '))\n",
    "B = int(input('Enter Second number : '))\n",
    "C = int(input('Enter Third number : ')) # FOR REMAINDER \n",
    "print(pow(A,B)) # A**B\n",
    "print(pow(A,B,C)) #"
   ]
  },
  {
   "cell_type": "markdown",
   "id": "ab7fc07c",
   "metadata": {},
   "source": [
    "# integers comes in all sizes"
   ]
  },
  {
   "cell_type": "code",
   "execution_count": 7,
   "id": "f5752d3d",
   "metadata": {},
   "outputs": [
    {
     "name": "stdout",
     "output_type": "stream",
     "text": [
      "Enter first number : 5\n",
      "Enter Second number : 5\n",
      "Enter Third number : 5\n",
      "Enter Fourth number : 5\n",
      "6250\n"
     ]
    }
   ],
   "source": [
    "A = int(input('Enter first number : '))\n",
    "B = int(input('Enter Second number : '))\n",
    "C = int(input('Enter Third number : ')) \n",
    "D = int(input('Enter Fourth number : '))\n",
    "print(pow(A,B) + pow(C,D))"
   ]
  },
  {
   "cell_type": "markdown",
   "id": "2babd805",
   "metadata": {},
   "source": [
    "# angle of mbc"
   ]
  },
  {
   "cell_type": "code",
   "execution_count": 8,
   "id": "bade857d",
   "metadata": {},
   "outputs": [
    {
     "name": "stdout",
     "output_type": "stream",
     "text": [
      "Enter length of side AB : 8\n",
      "Enter length of side BC : 8\n",
      "Length of hypotenuse is :  11.313708498984761\n",
      "45°\n"
     ]
    }
   ],
   "source": [
    "import math\n",
    "\n",
    "AB = float(input('Enter length of side AB : '))\n",
    "BC = float(input('Enter length of side BC : '))\n",
    "AC = math.sqrt((AB**2) + (BC**2))\n",
    "print('Length of hypotenuse is : ', AC)\n",
    "MC = AC/2\n",
    "X = BC/2\n",
    "Angle = int(round(math.degrees(math.acos(X/MC))))\n",
    "Angle = str(Angle)\n",
    "sym = chr(176)\n",
    "print(Angle + sym )"
   ]
  },
  {
   "cell_type": "code",
   "execution_count": null,
   "id": "d93bfd94",
   "metadata": {},
   "outputs": [],
   "source": []
  }
 ],
 "metadata": {
  "kernelspec": {
   "display_name": "Python 3",
   "language": "python",
   "name": "python3"
  },
  "language_info": {
   "codemirror_mode": {
    "name": "ipython",
    "version": 3
   },
   "file_extension": ".py",
   "mimetype": "text/x-python",
   "name": "python",
   "nbconvert_exporter": "python",
   "pygments_lexer": "ipython3",
   "version": "3.8.8"
  }
 },
 "nbformat": 4,
 "nbformat_minor": 5
}

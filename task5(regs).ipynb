{
 "cells": [
  {
   "cell_type": "markdown",
   "id": "49053288",
   "metadata": {},
   "source": [
    "# dtecting floating numbers"
   ]
  },
  {
   "cell_type": "code",
   "execution_count": 1,
   "id": "3f024926",
   "metadata": {},
   "outputs": [
    {
     "name": "stdout",
     "output_type": "stream",
     "text": [
      "Enter Number of Test Cases : 5\n",
      "Enter your Floating number to be checked : 5.3\n",
      "True\n",
      "Enter your Floating number to be checked : 45.\n",
      "False\n",
      "Enter your Floating number to be checked : 5\n",
      "False\n",
      "Enter your Floating number to be checked : 6\n",
      "False\n",
      "Enter your Floating number to be checked : 5.5\n",
      "True\n"
     ]
    }
   ],
   "source": [
    "import re\n",
    "class Main():\n",
    "    def __init__(self): # We include self always\n",
    "        self.n = int(input('Enter Number of Test Cases : '))\n",
    "        for i in range(self.n):\n",
    "            self.s = input('Enter your Floating number to be checked : ')\n",
    "            print(bool(re.match(r'^[-+]?[0-9]*\\.[0-9]+$', self.s)))\n",
    "                    \n",
    "if __name__ == '__main__': # Main function and calling our class\n",
    "    Answer = Main()"
   ]
  },
  {
   "cell_type": "markdown",
   "id": "835de12a",
   "metadata": {},
   "source": [
    "# Group(), Groups() & Groupdict()"
   ]
  },
  {
   "cell_type": "code",
   "execution_count": 2,
   "id": "e9187cf9",
   "metadata": {},
   "outputs": [
    {
     "name": "stdout",
     "output_type": "stream",
     "text": [
      "Enter your string : mishal\n",
      "-1\n"
     ]
    }
   ],
   "source": [
    "import re\n",
    "\n",
    "expression = r\"([a-zA-Z0-9])\\1+\"\n",
    "String = re.search(expression,input('Enter your string : '))\n",
    "if String:\n",
    "    print(String.group(1))\n",
    "else:\n",
    "    print(-1)"
   ]
  },
  {
   "cell_type": "markdown",
   "id": "da8766f4",
   "metadata": {},
   "source": [
    "# Re.findall() & Re.finditer()"
   ]
  },
  {
   "cell_type": "code",
   "execution_count": 4,
   "id": "a5783487",
   "metadata": {},
   "outputs": [
    {
     "name": "stdout",
     "output_type": "stream",
     "text": [
      "Enter your string : mishal\n"
     ]
    }
   ],
   "source": [
    "import re\n",
    "String = re.findall(r'(?<=[qwrtypsdfghjklzxcvbnm])([aeiou]{2,})(?=[qwrtypsdfghjklzxcvbnm])', input('Enter your string : ').strip(), re.IGNORECASE) # For case-sensitive\n",
    "\n",
    "if String: # Iteration for every i\n",
    "    for i in String:\n",
    "        print(i)\n",
    "else:\n",
    "    pass"
   ]
  },
  {
   "cell_type": "markdown",
   "id": "a836c054",
   "metadata": {},
   "source": [
    "# Re.start() & Re.end()\n",
    "\n",
    "We are given a string. We made a sub-string of it and we have to find the start and end index of the repeating character k wherever it appears inside it."
   ]
  },
  {
   "cell_type": "code",
   "execution_count": 5,
   "id": "dfee9740",
   "metadata": {},
   "outputs": [
    {
     "name": "stdout",
     "output_type": "stream",
     "text": [
      "Enter your string of words : aadhfggg\n",
      "Enter your sub-string : jhhh\n",
      "(-1, -1)\n"
     ]
    }
   ],
   "source": [
    "import re\n",
    "\n",
    "String, k = input('Enter your string of words : '), input('Enter your sub-string : ')\n",
    "matches = re.finditer(r'(?=(' + k + '))', String)\n",
    "\n",
    "Foundanymatch = False\n",
    "for match in matches:\n",
    "    Foundanymatch = True\n",
    "    print((match.start(1), match.end(1) - 1))\n",
    "\n",
    "if Foundanymatch == False:\n",
    "    print((-1, -1))"
   ]
  },
  {
   "cell_type": "markdown",
   "id": "daacefa3",
   "metadata": {},
   "source": [
    "# Regex Substitution"
   ]
  },
  {
   "cell_type": "code",
   "execution_count": 12,
   "id": "7d43731d",
   "metadata": {},
   "outputs": [
    {
     "name": "stdout",
     "output_type": "stream",
     "text": [
      "Enter number of lines : 2\n",
      "Enter your string : mishal&\n",
      "mishal&\n",
      "Enter your string : mishu@\n",
      "mishu@\n"
     ]
    }
   ],
   "source": [
    "import re\n",
    "\n",
    "def Word(any_match):\n",
    "    if any_match.group(1) == '&&':\n",
    "        return 'and'\n",
    "    else:\n",
    "        return 'or'\n",
    "\n",
    "for _ in range(int(input('Enter number of lines : '))):\n",
    "    print(re.sub(r\"(?<= )(\\|\\||&&)(?= )\", Word,input('Enter your string : ')))"
   ]
  },
  {
   "cell_type": "markdown",
   "id": "b8d2aaa3",
   "metadata": {},
   "source": [
    "# Validating Roman Numerals"
   ]
  },
  {
   "cell_type": "code",
   "execution_count": 14,
   "id": "a264d0fb",
   "metadata": {},
   "outputs": [
    {
     "name": "stdout",
     "output_type": "stream",
     "text": [
      "Enter your Roman Number : xv\n",
      "False\n"
     ]
    }
   ],
   "source": [
    "Thousands = 'M{0,3}'\n",
    "Hundreds = '(C[MD]|D?C{0,3})'\n",
    "Tens = '(X[CL]|L?X{0,3})'\n",
    "Ones = '(I[VX]|V?I{0,3})'\n",
    "regex_pattern = r\"%s%s%s%s$\" % (Thousands, Hundreds, Tens, Ones)    \n",
    "\n",
    "import re\n",
    "print(str(bool(re.match(regex_pattern, input('Enter your Roman Number : ')))))"
   ]
  },
  {
   "cell_type": "markdown",
   "id": "bfd2a96e",
   "metadata": {},
   "source": [
    "# validating phone numbers"
   ]
  },
  {
   "cell_type": "code",
   "execution_count": 16,
   "id": "e721b125",
   "metadata": {},
   "outputs": [
    {
     "name": "stdout",
     "output_type": "stream",
     "text": [
      "Enter number of lines : 1\n",
      "Enter your mobile number : 9912265915\n",
      "YES\n"
     ]
    }
   ],
   "source": [
    "import re\n",
    "N = int(input('Enter number of lines : '))\n",
    "\n",
    "for i in range(N):\n",
    "    Phone_number = input('Enter your mobile number : ')\n",
    "    if(len(Phone_number)==10 and Phone_number.isdigit()):\n",
    "        Valid = re.findall(r\"^[789]\\d{9}$\",Phone_number)\n",
    "        if(len(Valid)==1):\n",
    "            print(\"YES\")\n",
    "        else:\n",
    "            print(\"NO\")\n",
    "    else:\n",
    "        print(\"NO\")"
   ]
  },
  {
   "cell_type": "markdown",
   "id": "2fd8639a",
   "metadata": {},
   "source": [
    "# Validating and Parsing Email Addresses"
   ]
  },
  {
   "cell_type": "code",
   "execution_count": 17,
   "id": "cc44a795",
   "metadata": {},
   "outputs": [
    {
     "name": "stdout",
     "output_type": "stream",
     "text": [
      "Enter number of lines : 2\n",
      "Enter Name and E-mail with space-separated values : mishal mishal2891@gmail.com\n",
      "Enter Name and E-mail with space-separated values : mishu mishal2891@gmail.com\n"
     ]
    }
   ],
   "source": [
    "import re\n",
    "N = int(input('Enter number of lines : '))\n",
    "\n",
    "for i in range(N):\n",
    "    Name, E_mail = input('Enter Name and E-mail with space-separated values : ').split()\n",
    "    Regular_pattern = \"<[a-z][a-zA-Z0-9\\-\\.\\_]+@[a-zA-Z]+\\.[a-zA-Z]{1,3}>\"\n",
    "    if bool(re.match(Regular_pattern, E_mail)):\n",
    "        print(Name,E_mail)"
   ]
  },
  {
   "cell_type": "markdown",
   "id": "fc628e1f",
   "metadata": {},
   "source": [
    "# Hex Color Code"
   ]
  },
  {
   "cell_type": "code",
   "execution_count": 20,
   "id": "f88f4037",
   "metadata": {},
   "outputs": [
    {
     "name": "stdout",
     "output_type": "stream",
     "text": [
      "Enter Number of lines : 2\n",
      "Enter your string : #BED\n",
      "Enter your string : {\n"
     ]
    }
   ],
   "source": [
    "import re\n",
    "Line = int(input('Enter Number of lines : '))\n",
    "in_css = False\n",
    "for _ in range(Line):\n",
    "    s = input('Enter your string : ')\n",
    "    if '{' in s:\n",
    "        in_css = True\n",
    "    elif '}' in s:\n",
    "        in_css = False\n",
    "    elif in_css:\n",
    "        for color in re.findall('#[0-9a-fA-F]{3,6}', s):\n",
    "            print(color)"
   ]
  },
  {
   "cell_type": "markdown",
   "id": "f16f460c",
   "metadata": {},
   "source": [
    "# HTML Parser - Part 1"
   ]
  },
  {
   "cell_type": "code",
   "execution_count": 21,
   "id": "f7c7c0dc",
   "metadata": {},
   "outputs": [],
   "source": [
    "from html.parser import HTMLParser"
   ]
  },
  {
   "cell_type": "code",
   "execution_count": 22,
   "id": "f9ce4e59",
   "metadata": {},
   "outputs": [
    {
     "name": "stdout",
     "output_type": "stream",
     "text": [
      "Enter number of lines : 1\n",
      "Enter your HTML Code : <html><head><title>HTML Parser - I</title></head>\n",
      "Start : html\n",
      "Start : head\n",
      "Start : title\n",
      "End   : title\n",
      "End   : head\n"
     ]
    }
   ],
   "source": [
    "class MyHTMLParser(HTMLParser):\n",
    "    def handle_starttag(self, tag, attrs):\n",
    "        print ('Start :', tag)\n",
    "        for ele in attrs:\n",
    "            print ('->', ele[0], '>', ele[1])\n",
    "\n",
    "    def handle_endtag(self, tag):\n",
    "        print ('End   :', tag)\n",
    "\n",
    "    def handle_startendtag(self, tag, attrs):\n",
    "        print ('Empty :', tag)\n",
    "        for ele in attrs:\n",
    "            print ('->', ele[0], '>', ele[1])\n",
    "\n",
    "HTMLParser = MyHTMLParser()\n",
    "for _ in range(int(input('Enter number of lines : '))):\n",
    "    HTMLParser.feed(input('Enter your HTML Code : '))"
   ]
  },
  {
   "cell_type": "markdown",
   "id": "f487d4a2",
   "metadata": {},
   "source": [
    "# html praser part 2"
   ]
  },
  {
   "cell_type": "code",
   "execution_count": 23,
   "id": "63138b1e",
   "metadata": {},
   "outputs": [
    {
     "name": "stdout",
     "output_type": "stream",
     "text": [
      "Enter number of lines : 1\n",
      "Enter your HTML Code : <!--[if IE 9]>IE9-specific content<![endif]-->\n",
      ">>> Single-line Comment\n",
      "[if IE 9]>IE9-specific content<![endif]\n"
     ]
    }
   ],
   "source": [
    "from html.parser import HTMLParser\n",
    "\n",
    "class MyHTMLParser(HTMLParser):\n",
    "    def handle_comment(self, data):\n",
    "        if (len(data.split('\\n')) != 1):\n",
    "            print(\">>> Multi-line Comment\")\n",
    "        else:\n",
    "            print(\">>> Single-line Comment\")\n",
    "        print(data.replace(\"\\r\", \"\\n\"))\n",
    "    def handle_data(self, data):\n",
    "        if data.strip():\n",
    "            print(\">>> Data\")\n",
    "            print(data)\n",
    "Html = \" \"       \n",
    "for i in range(int(input('Enter number of lines : '))):\n",
    "    Html = Html + input('Enter your HTML Code : ').rstrip()\n",
    "    Html = Html + '\\n'\n",
    "    \n",
    "parser = MyHTMLParser()\n",
    "parser.feed(Html)\n",
    "parser.close()"
   ]
  },
  {
   "cell_type": "markdown",
   "id": "fde89608",
   "metadata": {},
   "source": [
    "Detect HTML Tags, Attributes and Attribute Values\n",
    "\n",
    "We have to detect and print all the HTML tags, attributes and attribute values.# "
   ]
  },
  {
   "cell_type": "code",
   "execution_count": 24,
   "id": "26b8d437",
   "metadata": {},
   "outputs": [
    {
     "name": "stdout",
     "output_type": "stream",
     "text": [
      "Enter number of lines : 1\n",
      "Enter your HTML Code : <object type=\"application/x-flash\"\n"
     ]
    }
   ],
   "source": [
    "from html.parser import HTMLParser\n",
    "class MyHTMLParser(HTMLParser):\n",
    "    def handle_starttag(self, tag, attrs):\n",
    "        print(tag)\n",
    "        for attr, value in attrs:\n",
    "            print(\"->\", attr, \">\", value)\n",
    "\n",
    "    def handle_startendtag(self, tag, attrs):\n",
    "        print(tag)\n",
    "        for attr, value in attrs:\n",
    "            print(\"->\", attr, \">\", value)\n",
    "\n",
    "Html = ''\n",
    "for _ in range(int(input('Enter number of lines : '))):\n",
    "    Html = Html + input('Enter your HTML Code : ').rstrip() + '\\n'\n"
   ]
  },
  {
   "cell_type": "markdown",
   "id": "e31bfcc1",
   "metadata": {},
   "source": [
    "# Validating UID"
   ]
  },
  {
   "cell_type": "code",
   "execution_count": 25,
   "id": "36c94c16",
   "metadata": {},
   "outputs": [
    {
     "name": "stdout",
     "output_type": "stream",
     "text": [
      "Enter number of lines : 1\n",
      "Enter your UID : mishal\n",
      "Invalid\n"
     ]
    }
   ],
   "source": [
    "import re\n",
    "\n",
    "for i in range(int(input('Enter number of lines : '))):\n",
    "    N = input('Enter your UID : ').strip()\n",
    "    if N.isalnum() and len(N) == 10:\n",
    "        if bool(re.search(r'(.*[A-Z]){2,}',N)) and bool(re.search(r'(.*[0-9]){3,}',N)):\n",
    "            if re.search(r'.*(.).*\\1+.*',N):\n",
    "                print('Invalid')\n",
    "            else:\n",
    "                print('Valid')\n",
    "        else:\n",
    "            print('Invalid')\n",
    "    else:\n",
    "        print('Invalid')"
   ]
  },
  {
   "cell_type": "markdown",
   "id": "4ad96657",
   "metadata": {},
   "source": [
    "# Validating Credit Card Numbers"
   ]
  },
  {
   "cell_type": "code",
   "execution_count": 26,
   "id": "9537500a",
   "metadata": {},
   "outputs": [
    {
     "name": "stdout",
     "output_type": "stream",
     "text": [
      "Enter number of lines : 1\n",
      "Enter your credit card details : 562588464924\n",
      "Invalid\n"
     ]
    }
   ],
   "source": [
    "import re\n",
    "for i in range(int(input('Enter number of lines : '))):\n",
    "    S = input('Enter your credit card details : ').strip()\n",
    "    pre_match = re.search(r'^[456]\\d{3}(-?)\\d{4}\\1\\d{4}\\1\\d{4}$',S)\n",
    "    if pre_match:\n",
    "        processed_string = \"\".join(pre_match.group(0).split('-'))\n",
    "        final_match = re.search(r'(\\d)\\1{3,}',processed_string)\n",
    "        if final_match:\n",
    "            print('Invalid')\n",
    "        else :\n",
    "            print('Valid')\n",
    "    else:\n",
    "        print('Invalid')"
   ]
  },
  {
   "cell_type": "markdown",
   "id": "b1f44a14",
   "metadata": {},
   "source": [
    "# Validating Postal Codes"
   ]
  },
  {
   "cell_type": "code",
   "execution_count": 28,
   "id": "8a85d35e",
   "metadata": {},
   "outputs": [
    {
     "name": "stdout",
     "output_type": "stream",
     "text": [
      "Enter your postal code : 524668\n",
      "True\n"
     ]
    }
   ],
   "source": [
    "regex_integer_in_range = r\"^[1-9][\\d]{5}$\"\n",
    "regex_alternating_repetitive_digit_pair = r\"(\\d)(?=\\d\\1)\"\n",
    "\n",
    "import re\n",
    "P = input('Enter your postal code : ')\n",
    "\n",
    "print (bool(re.match(regex_integer_in_range, P)) \n",
    "and len(re.findall(regex_alternating_repetitive_digit_pair, P)) < 2)"
   ]
  },
  {
   "cell_type": "markdown",
   "id": "1ba21975",
   "metadata": {},
   "source": [
    "# Matrix Script"
   ]
  },
  {
   "cell_type": "code",
   "execution_count": 29,
   "id": "7fc0c36e",
   "metadata": {},
   "outputs": [
    {
     "name": "stdout",
     "output_type": "stream",
     "text": [
      "Enter number of rows and columns : 2 1\n",
      "Enter elements of your matrix : 23\\\n",
      "Enter elements of your matrix : 34\n",
      "2334\n"
     ]
    }
   ],
   "source": [
    "import math\n",
    "import os\n",
    "import random\n",
    "import re\n",
    "import sys\n",
    "first_multiple_input = input('Enter number of rows and columns : ').rstrip().split()\n",
    "\n",
    "N = int(first_multiple_input[0]) # Rows\n",
    "M = int(first_multiple_input[1]) # Columns\n",
    "\n",
    "Matrix = []\n",
    "\n",
    "for _ in range(N):\n",
    "    Matrix_item = input('Enter elements of your matrix : ')\n",
    "    Matrix.append(Matrix_item)\n",
    "\n",
    "Matrix = list(zip(*Matrix))\n",
    "sample = str()\n",
    "\n",
    "for words in Matrix:\n",
    "    for char in words:\n",
    "        sample += char\n",
    "       \n",
    "print(re.sub(r'(?<=\\w)([^\\w\\d]+)(?=\\w)', ' ', sample))"
   ]
  },
  {
   "cell_type": "code",
   "execution_count": null,
   "id": "971f4743",
   "metadata": {},
   "outputs": [],
   "source": []
  }
 ],
 "metadata": {
  "kernelspec": {
   "display_name": "Python 3",
   "language": "python",
   "name": "python3"
  },
  "language_info": {
   "codemirror_mode": {
    "name": "ipython",
    "version": 3
   },
   "file_extension": ".py",
   "mimetype": "text/x-python",
   "name": "python",
   "nbconvert_exporter": "python",
   "pygments_lexer": "ipython3",
   "version": "3.8.8"
  }
 },
 "nbformat": 4,
 "nbformat_minor": 5
}

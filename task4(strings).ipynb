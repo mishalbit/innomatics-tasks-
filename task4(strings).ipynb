{
 "cells": [
  {
   "cell_type": "code",
   "execution_count": null,
   "id": "0d7b0453",
   "metadata": {},
   "outputs": [],
   "source": []
  },
  {
   "cell_type": "markdown",
   "id": "0e5b2177",
   "metadata": {},
   "source": [
    "# swap case"
   ]
  },
  {
   "cell_type": "code",
   "execution_count": 1,
   "id": "75adae38",
   "metadata": {},
   "outputs": [
    {
     "name": "stdout",
     "output_type": "stream",
     "text": [
      "Enter a string : mishal\n",
      "MISHAL\n"
     ]
    }
   ],
   "source": [
    "def swap_case(s):\n",
    "    A = s.swapcase()\n",
    "    return A\n",
    "\n",
    "if __name__ == '__main__':\n",
    "    s = input('Enter a string : ')\n",
    "    result = swap_case(s)\n",
    "    print(result)"
   ]
  },
  {
   "cell_type": "markdown",
   "id": "932f571e",
   "metadata": {},
   "source": [
    "# string split and join"
   ]
  },
  {
   "cell_type": "code",
   "execution_count": 2,
   "id": "e86ca43a",
   "metadata": {},
   "outputs": [
    {
     "name": "stdout",
     "output_type": "stream",
     "text": [
      "Enter a line : mishal\n",
      "mishal\n"
     ]
    }
   ],
   "source": [
    "def split_and_join(line):\n",
    "    A = line.split()\n",
    "    A = \"-\".join(A)\n",
    "    return A\n",
    "    \n",
    "if __name__ == '__main__':\n",
    "    line = input('Enter a line : ')\n",
    "    result = split_and_join(line)\n",
    "    print(result)"
   ]
  },
  {
   "cell_type": "markdown",
   "id": "c0474803",
   "metadata": {},
   "source": [
    "# whats your name /?"
   ]
  },
  {
   "cell_type": "code",
   "execution_count": 3,
   "id": "b5b0b50b",
   "metadata": {},
   "outputs": [
    {
     "name": "stdout",
     "output_type": "stream",
     "text": [
      "Enter your first name : syed\n",
      "Enter your last name : mishal\n",
      "Hello syed mishal! You just delved into python.\n"
     ]
    }
   ],
   "source": [
    "def print_full_name(first, last):\n",
    "    A = print('Hello ' + first_name + ' ' + last_name + '! You just delved into python.')\n",
    "    return A\n",
    "\n",
    "if __name__ == '__main__':\n",
    "    first_name = input('Enter your first name : ')\n",
    "    last_name = input('Enter your last name : ')\n",
    "    print_full_name(first_name, last_name)"
   ]
  },
  {
   "cell_type": "markdown",
   "id": "e1e4c717",
   "metadata": {},
   "source": [
    "# mutations"
   ]
  },
  {
   "cell_type": "code",
   "execution_count": 4,
   "id": "d5991476",
   "metadata": {},
   "outputs": [
    {
     "name": "stdout",
     "output_type": "stream",
     "text": [
      "Enter a string : mishal]\n",
      "Enter position and character with space : 1 k\n",
      "mkshal]\n"
     ]
    }
   ],
   "source": [
    "string = 'Harsh'\n",
    "L = list(string)\n",
    "L[2] = 'k'\n",
    "string = ''.join(L)\n",
    "string\n",
    "\n",
    "# CODE\n",
    "def mutate_string(string, position, character):\n",
    "    L = list(string)\n",
    "    L[position] = character\n",
    "    string = ''.join(L)\n",
    "    return string\n",
    "\n",
    "if __name__ == '__main__':\n",
    "    s = input('Enter a string : ')\n",
    "    i, c = input('Enter position and character with space : ').split()\n",
    "    s_new = mutate_string(s, int(i), c)\n",
    "    print(s_new)\n",
    "    "
   ]
  },
  {
   "cell_type": "markdown",
   "id": "2a64a2cb",
   "metadata": {},
   "source": [
    "# find a string"
   ]
  },
  {
   "cell_type": "code",
   "execution_count": 6,
   "id": "b3becc85",
   "metadata": {},
   "outputs": [
    {
     "name": "stdout",
     "output_type": "stream",
     "text": [
      "Enter your main string : mishu\n",
      "Enter your sub-string : i\n",
      "Number of repetition : 1\n"
     ]
    }
   ],
   "source": [
    "def count_substring(string, sub_string):\n",
    "    count = 0\n",
    "    for i in range(len(string) - len(sub_string) + 1):\n",
    "        if (string[i : i + len(sub_string)] == sub_string):\n",
    "            count = count + 1\n",
    "    return count\n",
    "if __name__ == '__main__':\n",
    "    string = input('Enter your main string : ').strip()\n",
    "    sub_string = input('Enter your sub-string : ').strip()\n",
    "    count = count_substring(string, sub_string)\n",
    "    print('Number of repetition :',count)"
   ]
  },
  {
   "cell_type": "markdown",
   "id": "9b2735d2",
   "metadata": {},
   "source": [
    "# string validators"
   ]
  },
  {
   "cell_type": "code",
   "execution_count": 7,
   "id": "f397a193",
   "metadata": {},
   "outputs": [
    {
     "name": "stdout",
     "output_type": "stream",
     "text": [
      "Enter your string : mishal\n",
      "True\n",
      "True\n",
      "False\n",
      "True\n",
      "False\n"
     ]
    }
   ],
   "source": [
    "def alnum(a):\n",
    "    for i in range(len(a)):\n",
    "        if(s[i].isalnum()):\n",
    "            return True\n",
    "            break\n",
    "    return False\n",
    "        \n",
    "def alpha(a):\n",
    "    for i in range(len(a)):\n",
    "        if(s[i].isalpha()):\n",
    "            return True\n",
    "            break\n",
    "    return False\n",
    "\n",
    "def digit(a):\n",
    "    for i in range(len(a)):\n",
    "        if(s[i].isdigit()):\n",
    "            return True\n",
    "            break\n",
    "    return False\n",
    "\n",
    "def lower(a):\n",
    "    for i in range(len(a)):\n",
    "        if(s[i].islower()):\n",
    "            return True\n",
    "            break\n",
    "    return False \n",
    "     \n",
    "def upper(a):\n",
    "    for i in range(len(a)):\n",
    "        if(s[i].isupper()):\n",
    "            return True\n",
    "            break\n",
    "    return False\n",
    "\n",
    "if __name__ == '__main__':\n",
    "    a = input('Enter your string : ')\n",
    "    Alpha_num = alnum(a)\n",
    "    Alpha = alpha(a)\n",
    "    Digit = digit(a)\n",
    "    Lower = lower(a)\n",
    "    Upper = upper(a)\n",
    "    print(Alpha_num)\n",
    "    print(Alpha)\n",
    "    print(Digit)\n",
    "    print(Lower)\n",
    "    print(Upper)"
   ]
  },
  {
   "cell_type": "markdown",
   "id": "82ba6b45",
   "metadata": {},
   "source": [
    "# text alignment"
   ]
  },
  {
   "cell_type": "code",
   "execution_count": 9,
   "id": "8c2cfeef",
   "metadata": {},
   "outputs": [
    {
     "name": "stdout",
     "output_type": "stream",
     "text": [
      "Enter width : 5\n",
      "    H    \n",
      "   HHH   \n",
      "  HHHHH  \n",
      " HHHHHHH \n",
      "HHHHHHHHH\n",
      "  HHHHH               HHHHH             \n",
      "  HHHHH               HHHHH             \n",
      "  HHHHH               HHHHH             \n",
      "  HHHHH               HHHHH             \n",
      "  HHHHH               HHHHH             \n",
      "  HHHHH               HHHHH             \n",
      "  HHHHHHHHHHHHHHHHHHHHHHHHH   \n",
      "  HHHHHHHHHHHHHHHHHHHHHHHHH   \n",
      "  HHHHHHHHHHHHHHHHHHHHHHHHH   \n",
      "  HHHHH               HHHHH             \n",
      "  HHHHH               HHHHH             \n",
      "  HHHHH               HHHHH             \n",
      "  HHHHH               HHHHH             \n",
      "  HHHHH               HHHHH             \n",
      "  HHHHH               HHHHH             \n",
      "                    HHHHHHHHH \n",
      "                     HHHHHHH  \n",
      "                      HHHHH   \n",
      "                       HHH    \n",
      "                        H     \n"
     ]
    }
   ],
   "source": [
    "thickness = int(input('Enter width : ')) #This must be an odd number\n",
    "c = 'H'\n",
    "\n",
    "#Top Cone\n",
    "for i in range(thickness):\n",
    "    print((c*i).rjust(thickness-1)+c+(c*i).ljust(thickness-1))\n",
    "\n",
    "#Top Pillars\n",
    "for i in range(thickness+1):\n",
    "    print((c*thickness).center(thickness*2)+(c*thickness).center(thickness*6))\n",
    "\n",
    "#Middle Belt\n",
    "for i in range((thickness+1)//2):\n",
    "    print((c*thickness*5).center(thickness*6))    \n",
    "\n",
    "#Bottom Pillars\n",
    "for i in range(thickness+1):\n",
    "    print((c*thickness).center(thickness*2)+(c*thickness).center(thickness*6))    \n",
    "\n",
    "#Bottom Cone\n",
    "for i in range(thickness):\n",
    "    print(((c*(thickness-i-1)).rjust(thickness)+c+(c*(thickness-i-1)).ljust(thickness)).rjust(thickness*6))"
   ]
  },
  {
   "cell_type": "markdown",
   "id": "19bd6e19",
   "metadata": {},
   "source": [
    "# text wrap"
   ]
  },
  {
   "cell_type": "code",
   "execution_count": 10,
   "id": "0c0e471c",
   "metadata": {},
   "outputs": [
    {
     "name": "stdout",
     "output_type": "stream",
     "text": [
      "Enter your string : mishal\n",
      "Enter width : 4\n",
      "mish\n",
      "al\n"
     ]
    }
   ],
   "source": [
    "import textwrap\n",
    "\n",
    "def wrap(string, max_width):\n",
    "    a = textwrap.fill(string, max_width)\n",
    "    return a\n",
    "\n",
    "if __name__ == '__main__':\n",
    "    string, max_width = input('Enter your string : '), int(input('Enter width : '))\n",
    "    result = wrap(string, max_width)\n",
    "    print(result)"
   ]
  },
  {
   "cell_type": "markdown",
   "id": "c7b4ea34",
   "metadata": {},
   "source": [
    "# designer door mat"
   ]
  },
  {
   "cell_type": "code",
   "execution_count": 12,
   "id": "cdb5e8da",
   "metadata": {},
   "outputs": [
    {
     "name": "stdout",
     "output_type": "stream",
     "text": [
      "Enter the values of N and M keeping space : 4 6\n",
      "-.|.--\n",
      ".|..|..|.\n",
      "WELCOME\n",
      ".|..|.\n",
      "------\n"
     ]
    }
   ],
   "source": [
    "# M = 3N\n",
    "N,M = map(int,input('Enter the values of N and M keeping space : ').split())\n",
    "for i in range(1, N, 2):\n",
    "    print(str('.|.' * i).center(M, '-'))\n",
    "print('WELCOME'.center(M, '-'))\n",
    "for i in range(N-2, -1, -2):\n",
    "    print(str('.|.' * i).center(M, '-'))"
   ]
  },
  {
   "cell_type": "markdown",
   "id": "09d4aea1",
   "metadata": {},
   "source": [
    "# string formating"
   ]
  },
  {
   "cell_type": "code",
   "execution_count": 13,
   "id": "e938941f",
   "metadata": {},
   "outputs": [
    {
     "name": "stdout",
     "output_type": "stream",
     "text": [
      "Enter your number : 5\n",
      "  1   1   1   1 \n",
      "  2   2   2  10 \n",
      "  3   3   3  11 \n",
      "  4   4   4 100 \n",
      "  5   5   5 101 \n"
     ]
    }
   ],
   "source": [
    "def print_formatted(number):\n",
    "    Length = len(bin(number)[2:]) # To control the spaces\n",
    "    for i in range(1 , number + 1): \n",
    "        print(str(i).rjust(Length , ' ') , end = \" \")\n",
    "        print(oct(i)[2:].rjust(Length,' ') , end = \" \")\n",
    "        print(((hex(i)[2:]).upper()).rjust(Length , ' ') , end = \" \")\n",
    "        print(bin(i)[2:].rjust(Length , ' ') , end = \" \")\n",
    "        print()\n",
    "        \n",
    "if __name__ == '__main__':\n",
    "    n = int(input('Enter your number : '))\n",
    "    print_formatted(n)"
   ]
  },
  {
   "cell_type": "markdown",
   "id": "d27df931",
   "metadata": {},
   "source": [
    "# alphabet rangoli"
   ]
  },
  {
   "cell_type": "code",
   "execution_count": 14,
   "id": "0bf0f405",
   "metadata": {},
   "outputs": [
    {
     "name": "stdout",
     "output_type": "stream",
     "text": [
      "Enter your number : 8\n",
      "--------------h--------------\n",
      "------------h-g-h------------\n",
      "----------h-g-f-g-h----------\n",
      "--------h-g-f-e-f-g-h--------\n",
      "------h-g-f-e-d-e-f-g-h------\n",
      "----h-g-f-e-d-c-d-e-f-g-h----\n",
      "--h-g-f-e-d-c-b-c-d-e-f-g-h--\n",
      "h-g-f-e-d-c-b-a-b-c-d-e-f-g-h\n",
      "--h-g-f-e-d-c-b-c-d-e-f-g-h--\n",
      "----h-g-f-e-d-c-d-e-f-g-h----\n",
      "------h-g-f-e-d-e-f-g-h------\n",
      "--------h-g-f-e-f-g-h--------\n",
      "----------h-g-f-g-h----------\n",
      "------------h-g-h------------\n",
      "--------------h--------------\n"
     ]
    }
   ],
   "source": [
    "def print_rangoli(size):\n",
    "    Breadth  = size * 4 - 3\n",
    "    String = ''\n",
    "    for i in range(1 , size + 1):\n",
    "        for j in range(0 , i):\n",
    "            String = String + chr(96 + size - j)\n",
    "            if len(String) < Breadth:\n",
    "                String = String + '-'\n",
    "        for k in range(i - 1 , 0 , -1):    \n",
    "            String = String + chr(97 + size - k)\n",
    "            if len(String) < Breadth:\n",
    "                String = String + '-'\n",
    "        print(String.center(Breadth , '-'))\n",
    "        String = ''\n",
    "    for i in range(size - 1 , 0 , -1):\n",
    "        String = ''\n",
    "        for j in range(0,i):\n",
    "            String = String + chr(96 + size - j)\n",
    "            if len(String) < Breadth:\n",
    "                String = String + '-'\n",
    "        for k in range(i - 1 , 0 , -1):\n",
    "            String = String + chr(97 + size - k)\n",
    "            if len(String) < Breadth:\n",
    "                String = String + '-'\n",
    "        print(String.center(Breadth,'-'))\n",
    "        \n",
    "if __name__ == '__main__':\n",
    "    N = int(input('Enter your number : '))\n",
    "    print_rangoli(N)"
   ]
  },
  {
   "cell_type": "markdown",
   "id": "a4329db0",
   "metadata": {},
   "source": [
    "# captalize"
   ]
  },
  {
   "cell_type": "code",
   "execution_count": 15,
   "id": "e7315b0a",
   "metadata": {},
   "outputs": [
    {
     "ename": "KeyError",
     "evalue": "'OUTPUT_PATH'",
     "output_type": "error",
     "traceback": [
      "\u001b[1;31m---------------------------------------------------------------------------\u001b[0m",
      "\u001b[1;31mKeyError\u001b[0m                                  Traceback (most recent call last)",
      "\u001b[1;32m<ipython-input-15-ceb8d9135c97>\u001b[0m in \u001b[0;36m<module>\u001b[1;34m\u001b[0m\n\u001b[0;32m     11\u001b[0m \u001b[1;33m\u001b[0m\u001b[0m\n\u001b[0;32m     12\u001b[0m \u001b[1;32mif\u001b[0m \u001b[0m__name__\u001b[0m \u001b[1;33m==\u001b[0m \u001b[1;34m'__main__'\u001b[0m\u001b[1;33m:\u001b[0m\u001b[1;33m\u001b[0m\u001b[1;33m\u001b[0m\u001b[0m\n\u001b[1;32m---> 13\u001b[1;33m     \u001b[0mfptr\u001b[0m \u001b[1;33m=\u001b[0m \u001b[0mopen\u001b[0m\u001b[1;33m(\u001b[0m\u001b[0mos\u001b[0m\u001b[1;33m.\u001b[0m\u001b[0menviron\u001b[0m\u001b[1;33m[\u001b[0m\u001b[1;34m'OUTPUT_PATH'\u001b[0m\u001b[1;33m]\u001b[0m\u001b[1;33m,\u001b[0m \u001b[1;34m'w'\u001b[0m\u001b[1;33m)\u001b[0m\u001b[1;33m\u001b[0m\u001b[1;33m\u001b[0m\u001b[0m\n\u001b[0m\u001b[0;32m     14\u001b[0m     \u001b[0ms\u001b[0m \u001b[1;33m=\u001b[0m \u001b[0minput\u001b[0m\u001b[1;33m(\u001b[0m\u001b[1;33m)\u001b[0m\u001b[1;33m\u001b[0m\u001b[1;33m\u001b[0m\u001b[0m\n\u001b[0;32m     15\u001b[0m     \u001b[0mresult\u001b[0m \u001b[1;33m=\u001b[0m \u001b[0msolve\u001b[0m\u001b[1;33m(\u001b[0m\u001b[0ms\u001b[0m\u001b[1;33m)\u001b[0m\u001b[1;33m\u001b[0m\u001b[1;33m\u001b[0m\u001b[0m\n",
      "\u001b[1;32m~\\anaconda3\\lib\\os.py\u001b[0m in \u001b[0;36m__getitem__\u001b[1;34m(self, key)\u001b[0m\n\u001b[0;32m    673\u001b[0m         \u001b[1;32mexcept\u001b[0m \u001b[0mKeyError\u001b[0m\u001b[1;33m:\u001b[0m\u001b[1;33m\u001b[0m\u001b[1;33m\u001b[0m\u001b[0m\n\u001b[0;32m    674\u001b[0m             \u001b[1;31m# raise KeyError with the original key value\u001b[0m\u001b[1;33m\u001b[0m\u001b[1;33m\u001b[0m\u001b[1;33m\u001b[0m\u001b[0m\n\u001b[1;32m--> 675\u001b[1;33m             \u001b[1;32mraise\u001b[0m \u001b[0mKeyError\u001b[0m\u001b[1;33m(\u001b[0m\u001b[0mkey\u001b[0m\u001b[1;33m)\u001b[0m \u001b[1;32mfrom\u001b[0m \u001b[1;32mNone\u001b[0m\u001b[1;33m\u001b[0m\u001b[1;33m\u001b[0m\u001b[0m\n\u001b[0m\u001b[0;32m    676\u001b[0m         \u001b[1;32mreturn\u001b[0m \u001b[0mself\u001b[0m\u001b[1;33m.\u001b[0m\u001b[0mdecodevalue\u001b[0m\u001b[1;33m(\u001b[0m\u001b[0mvalue\u001b[0m\u001b[1;33m)\u001b[0m\u001b[1;33m\u001b[0m\u001b[1;33m\u001b[0m\u001b[0m\n\u001b[0;32m    677\u001b[0m \u001b[1;33m\u001b[0m\u001b[0m\n",
      "\u001b[1;31mKeyError\u001b[0m: 'OUTPUT_PATH'"
     ]
    }
   ],
   "source": [
    "import math\n",
    "import os\n",
    "import random\n",
    "import re\n",
    "import sys\n",
    "\n",
    "def solve(s):\n",
    "    for i in s.split():\n",
    "        s = s.replace(i,i.capitalize())\n",
    "    return s\n",
    "\n",
    "if __name__ == '__main__':\n",
    "    fptr = open(os.environ['OUTPUT_PATH'], 'w')\n",
    "    s = input()\n",
    "    result = solve(s)\n",
    "    fptr.write(result + '\\n')\n",
    "    fptr.close()"
   ]
  },
  {
   "cell_type": "markdown",
   "id": "1fed924e",
   "metadata": {},
   "source": [
    "# game problem"
   ]
  },
  {
   "cell_type": "code",
   "execution_count": 16,
   "id": "906467d8",
   "metadata": {},
   "outputs": [
    {
     "name": "stdout",
     "output_type": "stream",
     "text": [
      "Enter your string : mishal\\\n",
      "Enter Player 1 : mishu\n",
      "Enter Player 2 : ramu\n",
      "mishu 28\n"
     ]
    }
   ],
   "source": [
    "def minion_game(string):\n",
    "    A = input('Enter Player 1 : ')\n",
    "    B = input('Enter Player 2 : ')\n",
    "    Player1 = 0\n",
    "    Player2 = 0\n",
    "    Length = len(string)\n",
    "    # LOGIC\n",
    "    for i in range(Length):\n",
    "        if s[i] in \"AEIOU\":\n",
    "            Player1 = Player1 + (Length) - i\n",
    "        else:\n",
    "            Player2 = Player2 + (Length) - i\n",
    "    if Player1 > Player2:\n",
    "        print(B, Player1)\n",
    "    elif Player1 < Player2:\n",
    "        print(A, Player2)\n",
    "    elif Player1 == Player2:\n",
    "        print(\"Draw\")\n",
    "    else:\n",
    "        print(\"Draw\")\n",
    "    \n",
    "if __name__ == '__main__':\n",
    "    s = input('Enter your string : ')\n",
    "    minion_game(s)"
   ]
  },
  {
   "cell_type": "markdown",
   "id": "898dd720",
   "metadata": {},
   "source": [
    "# merge tools"
   ]
  },
  {
   "cell_type": "code",
   "execution_count": 17,
   "id": "70ad10ee",
   "metadata": {},
   "outputs": [
    {
     "name": "stdout",
     "output_type": "stream",
     "text": [
      "Enter your string : mishal\n",
      "Enter integer : 5\n",
      "m i s h a\n",
      "l\n"
     ]
    }
   ],
   "source": [
    "from collections import OrderedDict\n",
    "\n",
    "def merge_the_tools(string, k):\n",
    "    Length = len(string)\n",
    "    for i in range(0 , Length , k):\n",
    "        print(' '.join(OrderedDict.fromkeys(string[i : i + k])))\n",
    "\n",
    "if __name__ == '__main__':\n",
    "    string, k = input('Enter your string : '), int(input('Enter integer : '))\n",
    "    merge_the_tools(string, k)"
   ]
  },
  {
   "cell_type": "code",
   "execution_count": null,
   "id": "860d330e",
   "metadata": {},
   "outputs": [],
   "source": []
  }
 ],
 "metadata": {
  "kernelspec": {
   "display_name": "Python 3",
   "language": "python",
   "name": "python3"
  },
  "language_info": {
   "codemirror_mode": {
    "name": "ipython",
    "version": 3
   },
   "file_extension": ".py",
   "mimetype": "text/x-python",
   "name": "python",
   "nbconvert_exporter": "python",
   "pygments_lexer": "ipython3",
   "version": "3.8.8"
  }
 },
 "nbformat": 4,
 "nbformat_minor": 5
}
